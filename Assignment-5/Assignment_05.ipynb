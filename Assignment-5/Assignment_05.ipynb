{
 "cells": [
  {
   "cell_type": "code",
   "execution_count": 15,
   "metadata": {},
   "outputs": [],
   "source": [
    "# Assignment - 5\n",
    "# Team name - Turing Machines\n",
    "# Team members:\n",
    "# Nikhil V Revankar - 01FB16ECS230\n",
    "# Vikram G - 01FB16ECS484\n",
    "# Vinayaka R Kamath - 01FB16ECS445"
   ]
  },
  {
   "cell_type": "code",
   "execution_count": 16,
   "metadata": {},
   "outputs": [],
   "source": [
    "import pandas as pd\n",
    "import numpy as np\n",
    "import math\n",
    "import warnings\n",
    "warnings.filterwarnings('ignore')\n",
    "from scipy.spatial.distance import cosine\n",
    "data=pd.read_csv(\"train.csv\")\n",
    "data1=pd.read_csv(\"test.csv\")"
   ]
  },
  {
   "cell_type": "code",
   "execution_count": 17,
   "metadata": {},
   "outputs": [
    {
     "data": {
      "text/plain": [
       "'Question-1'"
      ]
     },
     "execution_count": 17,
     "metadata": {},
     "output_type": "execute_result"
    }
   ],
   "source": [
    "'''Question-1'''"
   ]
  },
  {
   "cell_type": "code",
   "execution_count": 18,
   "metadata": {},
   "outputs": [
    {
     "name": "stdout",
     "output_type": "stream",
     "text": [
      "      user_id  mean_rating\n",
      "0         243     7.000000\n",
      "1         244     7.000000\n",
      "2         254     7.000000\n",
      "3         805     8.000000\n",
      "4        1075     8.000000\n",
      "5        1131     7.333333\n",
      "6        1261     6.000000\n",
      "7        1424     7.333333\n",
      "8        1435     9.000000\n",
      "9        1733     5.000000\n",
      "10       2197     9.000000\n",
      "11       2295     6.000000\n",
      "12       2766     8.000000\n",
      "13       2977     7.000000\n",
      "14       3346     9.000000\n",
      "15       3363    10.000000\n",
      "16       3373     9.000000\n",
      "17       3467     9.000000\n",
      "18       4017     9.000000\n",
      "19       4571     7.500000\n",
      "20       4785     9.000000\n",
      "21       4795     9.000000\n",
      "22       4938     8.500000\n",
      "23       5048    10.000000\n",
      "24       5091     8.000000\n",
      "25       5439     8.500000\n",
      "26       5476     4.000000\n",
      "27       5539     9.500000\n",
      "28       5582     9.500000\n",
      "29       5741     8.000000\n",
      "...       ...          ...\n",
      "2487   274808     9.000000\n",
      "2488   275020     9.000000\n",
      "2489   275210     8.500000\n",
      "2490   275306    10.000000\n",
      "2491   275401     5.000000\n",
      "2492   275571     8.000000\n",
      "2493   275611     5.000000\n",
      "2494   275638     6.000000\n",
      "2495   275677     8.500000\n",
      "2496   276027     5.000000\n",
      "2497   276050     8.333333\n",
      "2498   276165     9.000000\n",
      "2499   276231     7.000000\n",
      "2500   276328     7.500000\n",
      "2501   276681     8.500000\n",
      "2502   277042     2.000000\n",
      "2503   277623     6.000000\n",
      "2504   277639     5.000000\n",
      "2505   277901     7.333333\n",
      "2506   277922     9.000000\n",
      "2507   277923     9.000000\n",
      "2508   277928     9.000000\n",
      "2509   277937     8.000000\n",
      "2510   278026     8.000000\n",
      "2511   278188     9.000000\n",
      "2512   278194     9.000000\n",
      "2513   278356    10.000000\n",
      "2514   278582     8.500000\n",
      "2515   278633     8.500000\n",
      "2516   278854     7.000000\n",
      "\n",
      "[2517 rows x 2 columns]\n"
     ]
    }
   ],
   "source": [
    "#a) average rating given by each user.\n",
    "avg__rat_eachuser =pd.DataFrame({\"mean_rating\":data.groupby('user_id')['rating'].mean()}).reset_index()\n",
    "print(avg__rat_eachuser)"
   ]
  },
  {
   "cell_type": "code",
   "execution_count": 19,
   "metadata": {},
   "outputs": [
    {
     "name": "stdout",
     "output_type": "stream",
     "text": [
      "                                                 book  mean_rating\n",
      "0                                 1st to Die: A Novel     7.607843\n",
      "1           A Heartbreaking Work of Staggering Genius     7.488889\n",
      "2   A Is for Alibi (Kinsey Millhone Mysteries (Pap...     7.560000\n",
      "3   A Lesson Before Dying (Vintage Contemporaries ...     7.411765\n",
      "4   A Man Named Dave: A Story of Triumph and Forgi...     7.885714\n",
      "5   A Walk in the Woods: Rediscovering America on ...     8.531250\n",
      "6                                   A Wrinkle In Time     8.837838\n",
      "7                                      Absolute Power     7.800000\n",
      "8            Ahab's Wife: Or, The Star-Gazer: A Novel     7.656250\n",
      "9                                       American Gods     7.857143\n",
      "10                    Angela's Ashes (MMP) : A Memoir     8.102041\n",
      "11                                Bee Season: A Novel     7.863636\n",
      "12                                 Bel Canto: A Novel     8.164179\n",
      "13               Beloved (Plume Contemporary Fiction)     7.942857\n",
      "14  Big Stone Gap: A Novel (Ballantine Reader's Ci...     7.475000\n",
      "15                                     Black and Blue     7.606061\n",
      "16                Cat &amp; Mouse (Alex Cross Novels)     8.370370\n",
      "17  Chicken Soup for the Soul (Chicken Soup for th...     7.512821\n",
      "18                            Cold Mountain : A Novel     7.520833\n",
      "19  Confessions of a Shopaholic (Summer Display Op...     7.790698\n",
      "20        Confessions of an Ugly Stepsister : A Novel     7.510204\n",
      "21  Cruel &amp; Unusual (Kay Scarpetta Mysteries (...     8.323529\n",
      "22  Dance upon the Air (Three Sisters Island Trilogy)     8.119048\n",
      "23                                         Dead Sleep     7.727273\n",
      "24                                      Death du Jour     8.093750\n",
      "25  Don't Sweat the Small Stuff and It's All Small...     7.800000\n",
      "26                  Drowning Ruth (Oprah's Book Club)     7.476190\n",
      "27       Face the Fire (Three Sisters Island Trilogy)     8.388889\n",
      "28                     Fall On Your Knees (Oprah #45)     7.566038\n",
      "29  Fast Food Nation: The Dark Side of the All-Ame...     8.349206\n",
      "..                                                ...          ...\n",
      "70   The Diary of Ellen Rimbauer: My Life at Rose Red     6.833333\n",
      "71  The Divine Secrets of the Ya-Ya Sisterhood: A ...     7.750000\n",
      "72                                   The Great Gatsby     7.813333\n",
      "73  The Hobbit : The Enchanting Prelude to The Lor...     8.760000\n",
      "74                   The Honk and Holler Opening Soon     8.225000\n",
      "75                                 The Hours: A Novel     7.765957\n",
      "76                   The Last Time They Met : A Novel     6.904762\n",
      "77                          The Lovely Bones: A Novel     8.289683\n",
      "78                         The Nanny Diaries: A Novel     7.194030\n",
      "79  The No. 1 Ladies' Detective Agency (Today Show...     8.153846\n",
      "80                         The Pilot's Wife : A Novel     7.781818\n",
      "81                      The Poisonwood Bible: A Novel     8.269231\n",
      "82                The Red Tent (Bestselling Backlist)     8.442857\n",
      "83                         The Saving Graces: A Novel     7.470588\n",
      "84                                         The Search     7.558140\n",
      "85  The Tale of the Body Thief (Vampire Chronicles...     7.145833\n",
      "86   The Vampire Lestat (Vampire Chronicles, Book II)     8.229730\n",
      "87  Three To Get Deadly : A Stephanie Plum Novel (...     8.250000\n",
      "88                                      Tis: A Memoir     7.600000\n",
      "89  Tribulation Force: The Continuing Drama of Tho...     8.272727\n",
      "90                                  Two for the Dough     8.434783\n",
      "91       Vinegar Hill (Oprah's Book Club (Paperback))     6.552632\n",
      "92                              We Were the Mulvaneys     6.912281\n",
      "93  Where the Heart Is (Oprah's Book Club (Paperba...     8.204724\n",
      "94       White Oleander : A Novel (Oprah's Book Club)     8.000000\n",
      "95  Who Moved My Cheese? An Amazing Way to Deal wi...     7.250000\n",
      "96  Wicked: The Life and Times of the Wicked Witch...     7.881579\n",
      "97                                        Wild Animus     3.839080\n",
      "98                                    Year of Wonders     8.365854\n",
      "99                                \\O\\\" Is for Outlaw\"     7.757576\n",
      "\n",
      "[100 rows x 2 columns]\n"
     ]
    }
   ],
   "source": [
    "#b) average rating given for each item.\n",
    "avg_rat_eachitem =pd.DataFrame({\"mean_rating\":data.groupby('book')['rating'].mean()}).reset_index()\n",
    "print(avg_rat_eachitem)"
   ]
  },
  {
   "cell_type": "code",
   "execution_count": 21,
   "metadata": {},
   "outputs": [
    {
     "name": "stdout",
     "output_type": "stream",
     "text": [
      "RMSE:  1.781336407021028\n"
     ]
    }
   ],
   "source": [
    "#c) Root Mean Squared Error. \n",
    "def rmse(predictions, targets):\n",
    "    return np.sqrt(((predictions - targets) ** 2).mean())\n",
    "tar=[]\n",
    "average=data.rating.mean()\n",
    "for i in range(len(data['rating'])):\n",
    "        tar.append(average)\n",
    "print(\"RMSE: \",rmse(np.array(data['rating']),np.array(tar)))"
   ]
  },
  {
   "cell_type": "code",
   "execution_count": 22,
   "metadata": {
    "scrolled": false
   },
   "outputs": [
    {
     "name": "stdout",
     "output_type": "stream",
     "text": [
      "Train-data Matrix:\n",
      " [[   0    0    5]\n",
      " [   1    1    9]\n",
      " [   2    2    6]\n",
      " ...\n",
      " [ 635   73   10]\n",
      " [ 283   41    8]\n",
      " [2516   78    7]]\n",
      "\n",
      "Sparsity of train-data matrix : 0.015778357559945336\n",
      "\n",
      "=============\n",
      "\n",
      "Test-data Matrix:\n",
      " [[  0   0   7]\n",
      " [  1   1   8]\n",
      " [  2   2   8]\n",
      " ...\n",
      " [846  51  10]\n",
      " [847  28   9]\n",
      " [419  46  10]]\n",
      "\n",
      "Sparsity of test-data matrix : 0.006546644844517185\n"
     ]
    }
   ],
   "source": [
    "#d) \n",
    "def convert_to_matrix(data):\n",
    "    #train data into matrix\n",
    "    rows = data.user_id.unique()\n",
    "    cols = data['book'].unique()\n",
    "    data = data[['user_id', 'book', 'rating']]\n",
    "    idict = dict(zip(cols, range(len(cols))))\n",
    "    udict = dict(zip(rows, range(len(rows))))\n",
    "    data.user_id = [ udict[i] for i in data.user_id ]\n",
    "    data['book'] = [ idict[i] for i in data['book'] ]\n",
    "    nmat= data.values\n",
    "    return nmat,rows,cols,udict\n",
    "    \n",
    "#train-data into matrix\n",
    "nmat_train, rows_train, cols_train,udict_train = convert_to_matrix(data)\n",
    "print(\"Train-data Matrix:\\n\",nmat_train)\n",
    "print(\"\\nSparsity of train-data matrix :\",(len([j for i in nmat_train for j in i if j==0])/(np.prod(nmat_train.shape))))\n",
    "print(\"\\n=============\\n\")\n",
    "\n",
    "#test-data into matrix\n",
    "nmat_test, rows_test, cols_test,udict_test = convert_to_matrix(data1)\n",
    "print(\"Test-data Matrix:\\n\",nmat_test)\n",
    "print(\"\\nSparsity of test-data matrix :\",len([j for i in nmat_test for j in i if j==0])/(np.prod(nmat_test.shape)))\n"
   ]
  },
  {
   "cell_type": "code",
   "execution_count": 25,
   "metadata": {},
   "outputs": [],
   "source": [
    "#e)\n",
    "def fun(mat,rows,cols):   \n",
    "    naive = np.zeros((len(rows),len(cols)))\n",
    "    for row in mat:\n",
    "        naive[row[0], row[1]] = row[2]\n",
    "    amean1 = np.mean(naive[naive!=0])\n",
    "    umean1 = sum(naive.T) / sum((naive!=0).T)\n",
    "    imean1 = sum(naive) / sum((naive!=0))\n",
    "    umean1 = umean1[~np.isnan(umean1)]\n",
    "    imean1 = imean1[~np.isnan(imean1)]\n",
    "    return naive,amean1,umean1,imean1\n",
    "#for train_data\n",
    "naive_train,amean1_train,umean1_train,imean1_train = fun(nmat_train,rows_train,cols_train)\n",
    "#for test_data\n",
    "naive_test,amean1_test,umean1_test,imean1_test = fun(nmat_test,rows_test,cols_test)"
   ]
  },
  {
   "cell_type": "code",
   "execution_count": 28,
   "metadata": {},
   "outputs": [
    {
     "name": "stdout",
     "output_type": "stream",
     "text": [
      "(train_data)Root Mean Squared Error: 1.1444196071250665\n"
     ]
    }
   ],
   "source": [
    "def predict_naive(imean,umean,amean,user, item):\n",
    "    prediction = imean[item] + umean[user] - amean\n",
    "    return prediction\n",
    "predictions_train=[]\n",
    "targets_train=[]\n",
    "for row in nmat_train:\n",
    "    user, item, actual = row[0], row[1], row[2]\n",
    "    predictions_train.append(predict_naive(imean1_train,umean1_train,amean1_train,user, item))\n",
    "    targets_train.append(actual)\n",
    "print(\"(train_data)Root Mean Squared Error:\",rmse(np.array(predictions_train),np.array(targets_train)))"
   ]
  },
  {
   "cell_type": "code",
   "execution_count": 29,
   "metadata": {},
   "outputs": [
    {
     "data": {
      "text/plain": [
       "'Question-2'"
      ]
     },
     "execution_count": 29,
     "metadata": {},
     "output_type": "execute_result"
    }
   ],
   "source": [
    "'''Question-2'''"
   ]
  },
  {
   "cell_type": "code",
   "execution_count": 30,
   "metadata": {},
   "outputs": [],
   "source": [
    "#a\n",
    "def cos(mat, a, b):\n",
    "    if a == b:\n",
    "        return 1\n",
    "    aval = mat.T[a].nonzero()\n",
    "    bval = mat.T[b].nonzero()\n",
    "    corated = np.intersect1d(aval, bval)\n",
    "    if len(corated) == 0:\n",
    "        return 0\n",
    "    avec = np.take(mat.T[a], corated)\n",
    "    bvec = np.take(mat.T[b], corated)\n",
    "    val = 1.0 - cosine(avec, bvec)\n",
    "    if np.isnan(val):\n",
    "        return 0\n",
    "    return val\n",
    "\n",
    "def pr(mat, a, b, imean):\n",
    "    if a == b:\n",
    "        return 1\n",
    "    aval = mat.T[a].nonzero()\n",
    "    bval = mat.T[b].nonzero()\n",
    "    corated = np.intersect1d(aval, bval)\n",
    "    if len(corated) < 2:\n",
    "        return 0\n",
    "    avec = np.take(mat.T[a], corated)\n",
    "    bvec = np.take(mat.T[b], corated)\n",
    "    avec1 = avec - imean[a]\n",
    "    bvec1 = bvec - imean[b]\n",
    "    val = 1.0 - cosine(avec1, bvec1)\n",
    "    if np.isnan(val):\n",
    "        return 0\n",
    "    return val\n",
    "\n",
    "def itemsimilar(mat, option):\n",
    "    # *Calculate amean, umean and imean as before\n",
    "    amean = np.mean(mat[mat!=0])\n",
    "    umean = sum(mat.T) / sum((mat!=0).T)\n",
    "    imean = sum(mat) / sum((mat!=0))\n",
    "    n = mat.shape[1]\n",
    "    # *initialize a zero matrix with dimensions n,n to get the similarity matrix\n",
    "    sim_mat = np.zeros((n, n))\n",
    "    if option == 'pr':\n",
    "        #print(\"PR\")\n",
    "        for i in range(n):\n",
    "            for j in range(n):\n",
    "                sim_mat[i][j] = pr(mat, i, j, imean)\n",
    "    elif option == 'cos':\n",
    "        #print(\"COS\")\n",
    "        for i in range(n):\n",
    "            for j in range(n):\n",
    "                sim_mat[i][j] = cos(mat, i, j)\n",
    "    else:\n",
    "        #print(\"Default\")\n",
    "        sim_mat = cosine_similarity(mat.T)\n",
    "    return sim_mat, amean, umean, imean"
   ]
  },
  {
   "cell_type": "code",
   "execution_count": 31,
   "metadata": {},
   "outputs": [],
   "source": [
    "test_Isim_mat_cos, test_Iamean_cos, test_Iumean_cos, test_Iimean_cos = itemsimilar(naive_test,'cos')\n",
    "test_Isim_mat_pr, test_Iamean_pr, test_Iumean_pr, test_Iimean_pr = itemsimilar(naive_test,'pr')"
   ]
  },
  {
   "cell_type": "code",
   "execution_count": 32,
   "metadata": {},
   "outputs": [],
   "source": [
    "def usersimilar(mat,umean, option):\n",
    "    n = mat.shape[1]\n",
    "    # *initialize a zero matrix with dimensions n,n to get the similarity matrix\n",
    "    sim_mat = np.zeros((n, n))\n",
    "    if option == 'pr':\n",
    "        #print(\"PR\")\n",
    "        for i in range(n):\n",
    "            for j in range(n):\n",
    "                sim_mat[i][j] = pr(mat, i, j, umean)\n",
    "    elif option == 'cos':\n",
    "        #print(\"COS\")\n",
    "        for i in range(n):\n",
    "            for j in range(n):\n",
    "                sim_mat[i][j] = cos(mat, i, j)\n",
    "    else:\n",
    "        #print(\"Default\")\n",
    "        sim_mat = cosine_similarity(mat.T)\n",
    "    return sim_mat"
   ]
  },
  {
   "cell_type": "code",
   "execution_count": 33,
   "metadata": {},
   "outputs": [],
   "source": [
    "test_Usim_mat_cos = usersimilar(naive_test.T,umean1_test,'cos')\n",
    "test_Usim_mat_pr = usersimilar(naive_test.T,umean1_test,'pr')"
   ]
  },
  {
   "cell_type": "code",
   "execution_count": 34,
   "metadata": {},
   "outputs": [],
   "source": [
    "K = 5\n",
    "test_Ksimilar_cos = []\n",
    "for x, i in enumerate(test_Usim_mat_cos):\n",
    "    mi = i.argsort()\n",
    "    mi = np.delete(mi, np.where(mi==x))\n",
    "    test_Ksimilar_cos.append(mi[-K:])\n",
    "\n",
    "test_Ksimilar_pr = []\n",
    "for x,i in enumerate(test_Usim_mat_pr):\n",
    "    mi = i.argsort()\n",
    "    mi = np.delete(mi, np.where(mi==x))\n",
    "    test_Ksimilar_pr.append(mi[-K:])\n",
    " "
   ]
  },
  {
   "cell_type": "code",
   "execution_count": 37,
   "metadata": {},
   "outputs": [
    {
     "name": "stdout",
     "output_type": "stream",
     "text": [
      "for user 32 : 5 similar user-ids using (cos) : [108405, 43246, 133706, 271558, 35859]\n",
      "for user 32 : 5 similar user-ids using (pr) : [197659, 75591, 168144, 136139, 272573]\n"
     ]
    }
   ],
   "source": [
    "# example taking user 32 and finding k=5 similar users\n",
    "user = 32\n",
    "similar_users_cos=test_Ksimilar_cos[user]\n",
    "similar_users_pr=test_Ksimilar_pr[user]\n",
    "Ksimilar_userids_cos=[k for i in similar_users_cos for k,v in udict_test.items() if v==i]\n",
    "Ksimilar_userids_pr=[k for i in similar_users_pr for k,v in udict_test.items() if v==i]\n",
    "print(\"for user\", user, \":\", K, \"similar user-ids using (cos) :\", Ksimilar_userids_cos)\n",
    "print(\"for user\", user, \":\", K, \"similar user-ids using (pr) :\", Ksimilar_userids_pr)\n"
   ]
  },
  {
   "cell_type": "code",
   "execution_count": 38,
   "metadata": {},
   "outputs": [],
   "source": [
    "#b\n",
    "def predict(user, item, mat, item_similarity, amean, umean, imean, k=20):\n",
    "    nzero = mat[user].nonzero()[0]\n",
    "    if len(nzero) == 0:\n",
    "        return amean\n",
    "    baseline = imean + umean[user] - amean\n",
    "    choice = nzero[item_similarity[item, nzero].argsort()[::-1][:k]]\n",
    "    prediction = ((mat[user, choice] - baseline[choice]).dot(item_similarity[item, choice])/ sum(item_similarity[item, choice])) + baseline[item]\n",
    "    if np.isnan(prediction):\n",
    "        prediction = amean\n",
    "    if prediction > 10:\n",
    "        prediction = 10\n",
    "    if prediction < 1:\n",
    "        prediction = 1\n",
    "    return prediction"
   ]
  },
  {
   "cell_type": "code",
   "execution_count": 39,
   "metadata": {},
   "outputs": [
    {
     "name": "stdout",
     "output_type": "stream",
     "text": [
      "Predicted rating for user - 32 and item - 1 :  7.8207855973813425\n"
     ]
    }
   ],
   "source": [
    "# example taking user 32 and item 1 and predicting the rate given by user 32\n",
    "k= 20\n",
    "user= 32\n",
    "item = 1\n",
    "print(\"Predicted rating for user -\",user,\"and item -\",item,\": \",predict(user, item, naive_test, test_Usim_mat_cos,amean1_test,umean1_test,imean1_test,k))"
   ]
  },
  {
   "cell_type": "code",
   "execution_count": 40,
   "metadata": {},
   "outputs": [],
   "source": [
    "#c\n",
    "def get_results(train_data, test_data, option, rows, cols, k):\n",
    "    #for train data\n",
    "    full_mat = np.zeros((rows[0], cols[0]))\n",
    "    for row in train_data:\n",
    "        full_mat[row[0], row[1]] = row[2]\n",
    "    item_similarity, amean, umean, imean = itemsimilar(full_mat, option)\n",
    "    k = 10\n",
    "    preds = np.zeros(len(train_data))\n",
    "    if option == 'cos':\n",
    "        for x, i in enumerate(train_data):\n",
    "            preds[x] = predict(i[0], i[1], full_mat, item_similarity, amean, umean, imean, k)\n",
    "    elif option == 'pr':\n",
    "        for x, i in enumerate(train_data):\n",
    "            preds[x] = predict(i[0], i[1], full_mat, item_similarity, amean, umean, imean, k)\n",
    "    print('Train Error')\n",
    "    print('RMSE : %.4f' % rmse(train_data[:, 2], preds))\n",
    "    \n",
    "    #for test data\n",
    "    full_mat = np.zeros((rows[1], cols[1]))\n",
    "    for row in test_data:\n",
    "        full_mat[row[0], row[1]] = row[2]\n",
    "    item_similarity, amean, umean, imean = itemsimilar(full_mat, option)\n",
    "    k = 10\n",
    "    preds = np.zeros(len(test_data))\n",
    "    if option == 'cos':\n",
    "        for x, i in enumerate(test_data):\n",
    "            preds[x] = predict(i[0], i[1], full_mat, item_similarity, amean, umean, imean, k)\n",
    "    elif option == 'pr':\n",
    "        for x, i in enumerate(test_data):\n",
    "            preds[x] = predict(i[0], i[1], full_mat, item_similarity, amean, umean, imean, k)\n",
    "    print('Test Error')\n",
    "    print('RMSE : %.4f' % rmse(test_data[:, 2], preds))"
   ]
  },
  {
   "cell_type": "code",
   "execution_count": 41,
   "metadata": {},
   "outputs": [
    {
     "name": "stdout",
     "output_type": "stream",
     "text": [
      "Train and Test Error using cos\n",
      "Train Error\n",
      "RMSE : 1.0102\n",
      "Test Error\n",
      "RMSE : 0.7641\n",
      "\n",
      "===========\n",
      "\n",
      "Train and Test Error using pr\n",
      "Train Error\n",
      "RMSE : 1.3294\n",
      "Test Error\n",
      "RMSE : 0.8731\n"
     ]
    }
   ],
   "source": [
    "print(\"Train and Test Error using cos\")\n",
    "get_results(nmat_train, nmat_test, 'cos', (len(rows_train),len(rows_test)), (len(cols_train), len(cols_test)), k)\n",
    "print(\"\\n===========\\n\")\n",
    "print(\"Train and Test Error using pr\")\n",
    "get_results(nmat_train, nmat_test, 'pr', (len(rows_train),len(rows_test)), (len(cols_train), len(cols_test)), k)"
   ]
  },
  {
   "cell_type": "code",
   "execution_count": 42,
   "metadata": {},
   "outputs": [],
   "source": [
    "#d How do you find the optimal value of k while using kNN?\n",
    "# In KNN, finding the value of k is not easy. \n",
    "# A small value of k means that noise will have a higher influence on the result and a large value make it computationally expensive.\n",
    "# k must be  odd number if the number of classes is 2in order to avoid ties\n",
    "# another simple approach to select k is set k=sqrt(n)."
   ]
  },
  {
   "cell_type": "code",
   "execution_count": null,
   "metadata": {},
   "outputs": [],
   "source": []
  }
 ],
 "metadata": {
  "kernelspec": {
   "display_name": "Python 3",
   "language": "python",
   "name": "python3"
  },
  "language_info": {
   "codemirror_mode": {
    "name": "ipython",
    "version": 3
   },
   "file_extension": ".py",
   "mimetype": "text/x-python",
   "name": "python",
   "nbconvert_exporter": "python",
   "pygments_lexer": "ipython3",
   "version": "3.6.5"
  }
 },
 "nbformat": 4,
 "nbformat_minor": 2
}
